import random, sys, time
lastmission = 1
money = 1000
inventory = []
heroes = ['GALAHAD']
currentlocation = 'gate'
galahadpower = 100
artemispower = 0
galahadlevel = 1
artemislevel = 0
totalheropower = 100
allheroes = ['GALAHAD', 'ARTEMIS']
alllocations = ['gate', 'campaign', 'home']
assert len(allheroes) == 2
assert len(alllocations) == 3
assert totalheropower == 100
input('Press Enter to begin')
            
while True:
    if currentlocation == 'gate':
            print('Would you like to teleport?')
            response = input('> ').upper()
            if response == 'YES':
                if currentlocation == 'gate':
                    print('You are at the gate. Where do you want to go?')
                    print('campaign or home?')
                    response = input('> ').upper()
                    if response == 'CAMPAIGN':
                        currentlocation == 'campaign'
                        missiontext = lastmission + 1
                        print('You can go to mission 1 to mission {}'.format(missiontext))
                        response = input('> ').upper()
                        try:
                            val = int(response)
                        except ValueError:
                            print("That's not an int!")    
                        if val >= missiontext:
                            timeleft = 20*int(missiontext)
                            missionpower = 20*int(missiontext)
                            for timeleft in range (0, 20*int(missiontext)):
                                print(timeleft)
                                timeleft -= 1
                                time.sleep(1)
                                if timeleft == -1:
                                    print('Times up! Battling time is over!')
                                    if missionpower <= totalheropower:
                                        print('Well done! You have defeated your enemy and your heroes have gotten more power!')
                                        galahadpower += int(galahadlevel)*4
                                        artemispower += int(response)**3  #make it into a^3!
                                        galahadlevel += 1
                                        artemislevel += 1
                                        totalheropower = galahadpower + artemispower
                                        print('Your total hero power is now ...')
                                        print('{}!'.format(totalheropower))
                                    else:
                                        print('You did not manage to defeat the enemy. Better luck next time!')
                                        response = input('> ').upper()
                                        continue
                                else:
                                    continue
                        else:
                            print('This mission is not available for you to complete yet.')
                            response = input('> ').upper()
                    elif response == 'Home':
                        print('Boom')
                        currentlocation == 'home'
                elif currentlocation == 'home':
                    try:
                        val = int(response)
                    except ValueError:
                        print("That's not an int!")
                    if response == 'CAMPAIGN':
                        missiontext = lastmission + 1
                        print('You can go to mission 1 to mission {}'.format(missiontext))
                        response = input('> ').upper()
                        try:
                            val = int(response)
                        except ValueError:
                            print("That's not an int!")
                        if val >= missiontext:
                            timeleft = 20*int(missiontext)
                            missionpower = 20*int(missiontext)
                            for timeleft in range (0, 20*int(missiontext)):
                                print(timeleft)
                                timeleft -= 1
                                time.sleep(0.1)
                                if timeleft == -1:
                                    print('Times up! Battling time is over!')
                                    if missionpower <= totalheropower:
                                        print('Well done! You have defeated your enemy and your heroes have gotten more power!')
                                        galahadpower += int(galahadlevel)*4
                                        artemispower += int(response)**3  #make it into a^3!
                                        galahadlevel += 1
                                        artemislevel += 1
                                        totalheropower = galahadpower + artemispower
                                        lastmission += 1
                                        missiontext = lastmission + 1
                                        print('Your total hero power is now ...')
                                        print('{}!'.format(totalheropower))
                                        print('Would you like to continue with mission {}?'.format(missiontext))
                                        response = input('> ').upper()
                                        if response == 'YES':
                                            timeleft = 20*int(missiontext)
                                            missionpower = 20*int(missiontext)
                                            for timeleft in range (0, 20*int(missiontext)):
                                                print(timeleft)
                                                timeleft -= 1
                                                time.sleep(0.1)
                                                if timeleft == -1:
                                                    print('Times up! Battling time is over!')
                                                    if missionpower <= totalheropower:
                                                        print('Well done! You have defeated your enemy and your heroes have gotten more power!')
                                                        galahadpower += int(galahadlevel)*4
                                                        artemispower += int(response)**3  #make it into a^3!
                                                        galahadlevel += 1
                                                        artemislevel += 1
                                                        totalheropower = galahadpower + artemispower
                                                        lastmission += 1
                                                        missiontext = lastmission + 1
                                                        print('Your total hero power is now ...')
                                                        print('{}!'.format(totalheropower))
                                            
                                            
                                        else:
                                            print('You are at the gate once more.')
                                            continue
                                else:
                                    continue
                        else:
                            continue
                    elif response == 'Home':
                        print('Boom!')
                
